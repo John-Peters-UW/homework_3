{
 "cells": [
  {
   "cell_type": "code",
   "execution_count": 165,
   "metadata": {},
   "outputs": [],
   "source": [
    "import matplotlib.pylab as plt \n",
    "import seaborn as sns\n",
    "from sklearn.metrics import roc_curve\n",
    "from sklearn.neighbors import KNeighborsClassifier\n",
    "import numpy as np\n",
    "import pandas as pd\n",
    "from sklearn.model_selection import cross_validate\n",
    "from sklearn.metrics import accuracy_score, precision_recall_fscore_support"
   ]
  },
  {
   "cell_type": "code",
   "execution_count": 166,
   "metadata": {},
   "outputs": [
    {
     "data": {
      "text/plain": [
       "Text(0, 0.5, 'TPR')"
      ]
     },
     "execution_count": 166,
     "metadata": {},
     "output_type": "execute_result"
    },
    {
     "data": {
      "image/png": "[encoded data removed]",
      "text/plain": [
       "<Figure size 640x480 with 1 Axes>"
      ]
     },
     "metadata": {},
     "output_type": "display_data"
    }
   ],
   "source": [
    "pred_y = [0.95, 0.85, 0.8, 0.7, 0.55, 0.45, 0.4, 0.3, 0.2, 0.1]\n",
    "y = [1, 1, 0, 1, 1, 0, 1, 1, 0, 0]\n",
    "fpr, tpr, thresholds = roc_curve(y, pred_y)\n",
    "plt.plot(fpr, tpr)\n",
    "plt.title(\"Roc Curve\")\n",
    "plt.xlabel(\"FPR\")\n",
    "plt.ylabel(\"TPR\")"
   ]
  },
  {
   "cell_type": "code",
   "execution_count": 167,
   "metadata": {},
   "outputs": [
    {
     "name": "stdout",
     "output_type": "stream",
     "text": [
      "[0.         0.16666667 0.33333333 0.33333333 0.66666667 0.66666667\n",
      " 1.         1.        ]\n",
      "[0.   0.   0.   0.25 0.25 0.5  0.5  1.  ]\n",
      "[ inf 0.95 0.85 0.8  0.55 0.45 0.3  0.1 ]\n"
     ]
    }
   ],
   "source": [
    "print(tpr)\n",
    "print(fpr)\n",
    "print(thresholds)"
   ]
  },
  {
   "cell_type": "markdown",
   "metadata": {},
   "source": [
    "### Question 2"
   ]
  },
  {
   "cell_type": "markdown",
   "metadata": {},
   "source": [
    "### Note:\n",
    "**This was written when I was in undergrad, so that is why the comments are the way they are. This is my own original work.**"
   ]
  },
  {
   "cell_type": "code",
   "execution_count": 168,
   "metadata": {},
   "outputs": [],
   "source": [
    "import numpy as np\n",
    "from scipy import stats\n",
    "from sklearn.metrics import pairwise_distances\n",
    "\n",
    "class KNN:\n",
    "    def __init__(self, k, aggregation_function):\n",
    "        self.k = k\n",
    "        self.aggregate_function = aggregation_function\n",
    "\n",
    "    def fit(self, X, y):\n",
    "        self.X = X\n",
    "        self.y = np.reshape(y, (y.shape[0],1))\n",
    "        # self.y = y        \n",
    "        \n",
    "    def predict(self, X):\n",
    "        distances = pairwise_distances(X=self.X, Y=X, metric=\"euclidean\")\n",
    "        # this one is somehow faster than cdist from scipy...\n",
    "        sorted_distances = np.argsort(distances, axis=0)\n",
    "        knn = sorted_distances[:self.k,:]\n",
    "\n",
    "        # knn_values = distances[knn.flatten(),repeated_columns]\n",
    "        test_x = np.hstack((self.X, self.y))\n",
    "        knn_values = test_x[knn]\n",
    "        shape = knn_values.shape\n",
    "        dims = len(shape)\n",
    "        predictions = knn_values[:,:,(shape[dims-1]-1)]\n",
    "\n",
    "        if self.aggregate_function == 'average':\n",
    "            mean = np.mean(predictions, axis=0)\n",
    "            return mean\n",
    "        else:\n",
    "            mode = stats.mode(predictions)[0]\n",
    "            return mode"
   ]
  },
  {
   "cell_type": "code",
   "execution_count": 169,
   "metadata": {},
   "outputs": [],
   "source": [
    "class LinearModel:\n",
    "    def __init__(self):\n",
    "        self.weights = None\n",
    "        self.bias = 0\n",
    "\n",
    "    def fit(self, X, y, epochs = 1, alpha = 0.01):\n",
    "        X = X.to_numpy()\n",
    "        X = np.float64(X)\n",
    "        y = y.to_numpy()\n",
    "        self.weights = np.zeros(X.shape[1])\n",
    "        for epoch in range(epochs):\n",
    "            pred = self.weights @ X.T + self.bias\n",
    "            sigmoid = self._sigmoid(pred)\n",
    "            grad_weights, grad_bias = self._cross_entropy_deriv(sigmoid, y, X)\n",
    "            self.weights = self.weights - (alpha * grad_weights)\n",
    "            self.bias = self.bias - (alpha * grad_bias)\n",
    "\n",
    "    def _sigmoid(self, preds):\n",
    "        return np.array([self._sigmoid_eqn(pred) for pred in preds])\n",
    "\n",
    "    def _sigmoid_eqn(self, x):\n",
    "        # https://www.blog.dailydoseofds.com/p/a-highly-overlooked-point-in-the#:~:text=The%20standard%20sigmoid%20function%20can,use%20both%20variations%20of%20sigmoid.\n",
    "        if x >= 0:\n",
    "            z = np.exp(-x)\n",
    "            return 1 / (1 + z)\n",
    "        else:\n",
    "            z = np.exp(x)\n",
    "            return z / (1 + z)\n",
    "    \n",
    "    def _cross_entropy_deriv(self, y_pred, y_true, X):\n",
    "        diff = y_pred - y_true\n",
    "        return X.T @ diff , np.mean(diff) # second one for the weights\n",
    "    \n",
    "    def predict(self, X):\n",
    "        return self._sigmoid(self.weights @ X.T + self.bias)  # this gets prob, gotta apply .round() if if you want classifications on a 0.5 boundary"
   ]
  },
  {
   "cell_type": "code",
   "execution_count": 170,
   "metadata": {},
   "outputs": [],
   "source": [
    "training_data = np.loadtxt('./D2z.txt')\n",
    "x_train = training_data[:, [0,1]]\n",
    "y_train = training_data[:, [-1]]\n",
    "\n",
    "x_test = np.arange(-2, 2.1, 0.1)\n",
    "y_test = np.arange(-2, 2.1, 0.1)\n",
    "xv, yv = np.meshgrid(x_test, y_test)\n",
    "\n",
    "print(yv.shape)\n",
    "\n",
    "x_flat = np.reshape(xv, (-1, 1))\n",
    "y_flat = np.reshape(yv, (-1, 1))\n",
    "\n",
    "knn = KNN(k=1, aggregation_function=\"mode\")\n",
    "knn.fit(x_train, y_train)\n",
    "\n",
    "grid_points = np.concatenate((x_flat, y_flat), axis=1)\n",
    "knn_pred = knn.predict(grid_points)\n",
    "\n",
    "sns.scatterplot(x=x_flat[:, 0], y=y_flat[:, 0], hue=knn_pred)\n",
    "sns.scatterplot(x=x_train[:, 0], y=x_train[:, 1], color=\"black\")\n",
    "plt.title(\"1nn Graph\")\n",
    "plt.xlabel(\"X1\")\n",
    "plt.ylabel(\"y1\")"
   ]
  },
  {
   "cell_type": "code",
   "execution_count": 177,
   "metadata": {},
   "outputs": [
    {
     "data": {
      "text/plain": [
       "(5000, 3001)"
      ]
     },
     "execution_count": 177,
     "metadata": {},
     "output_type": "execute_result"
    }
   ],
   "source": [
    "email_data = pd.read_csv('./emails.csv')\n",
    "email_data.set_index('Email No.', inplace=True)\n",
    "email_data.shape"
   ]
  },
  {
   "cell_type": "code",
   "execution_count": 178,
   "metadata": {},
   "outputs": [],
   "source": [
    "fold_1 = email_data.iloc[0:1000, :]\n",
    "fold_2 = email_data.iloc[1000:2000, :]\n",
    "fold_3 = email_data.iloc[2000:3000, :]\n",
    "fold_4 = email_data.iloc[3000:4000, :]\n",
    "fold_5 = email_data.iloc[4000:, :]\n",
    "folds = [fold_1, fold_2, fold_3, fold_4, fold_5]\n"
   ]
  },
  {
   "cell_type": "code",
   "execution_count": 179,
   "metadata": {},
   "outputs": [
    {
     "name": "stdout",
     "output_type": "stream",
     "text": [
      "(1000, 3001)\n",
      "(1000, 3001)\n",
      "(1000, 3001)\n",
      "(1000, 3001)\n",
      "(1000, 3001)\n"
     ]
    }
   ],
   "source": [
    "for fold in folds:\n",
    "    print(fold.shape)"
   ]
  },
  {
   "cell_type": "code",
   "execution_count": 180,
   "metadata": {},
   "outputs": [
    {
     "name": "stdout",
     "output_type": "stream",
     "text": [
      "Test set is set 1. \n",
      " Precision: [0.65363128],\n",
      " Recall: [0.82105263],\n",
      " Accuracy: 0.825\n",
      "\n",
      "Test set is set 2. \n",
      " Precision: [0.68965517],\n",
      " Recall: [0.86642599],\n",
      " Accuracy: 0.855\n",
      "\n",
      "Test set is set 3. \n",
      " Precision: [0.72205438],\n",
      " Recall: [0.8415493],\n",
      " Accuracy: 0.863\n",
      "\n",
      "Test set is set 4. \n",
      " Precision: [0.72155689],\n",
      " Recall: [0.81972789],\n",
      " Accuracy: 0.854\n",
      "\n",
      "Test set is set 5. \n",
      " Precision: [0.60519481],\n",
      " Recall: [0.76143791],\n",
      " Accuracy: 0.775\n",
      "\n"
     ]
    }
   ],
   "source": [
    "models = []\n",
    "for index, fold in enumerate(folds):\n",
    "    test_set_x = fold.loc[:, fold.columns != \"Prediction\"]\n",
    "    test_set_y = fold['Prediction']\n",
    "\n",
    "    train_folds = []\n",
    "    for index_2, fold_2 in enumerate(folds):\n",
    "        if index == index_2:\n",
    "            continue\n",
    "        else:\n",
    "            train_folds.append(fold_2)\n",
    "\n",
    "    train_set = pd.concat(train_folds)\n",
    "    # print(train_set.shape)\n",
    "    train_set_x = train_set.loc[:, train_set.columns != \"Prediction\"]\n",
    "    train_set_y = train_set['Prediction']\n",
    "\n",
    "    knn_classifier = KNN(k=1, aggregation_function=\"mode\")\n",
    "    # knn_classifier = KNeighborsClassifier(n_neighbors=1) # testing with sklearn\n",
    "    knn_classifier.fit(train_set_x, train_set_y)\n",
    "    preds = knn_classifier.predict(test_set_x)\n",
    "\n",
    "    precision, recall, fscore, support = precision_recall_fscore_support(y_true=test_set_y, y_pred=preds, labels=[1])\n",
    "    accuracy = accuracy_score(y_pred=preds, y_true=test_set_y)\n",
    "\n",
    "    print(f'Test set is set {index + 1}. \\n Precision: {precision},\\n Recall: {recall},\\n Accuracy: {accuracy}\\n')"
   ]
  },
  {
   "cell_type": "code",
   "execution_count": 181,
   "metadata": {},
   "outputs": [
    {
     "name": "stdout",
     "output_type": "stream",
     "text": [
      "Using k: 1\n",
      "Using k: 3\n",
      "Using k: 5\n",
      "Using k: 7\n",
      "Using k: 10\n"
     ]
    }
   ],
   "source": [
    "average_accs = []\n",
    "k_range = [1, 3, 5, 7, 10]\n",
    "\n",
    "for k in k_range:\n",
    "    print(\"Using k:\", k)\n",
    "    accuracies = []\n",
    "    for index, fold in enumerate(folds):\n",
    "        test_set_x = fold.loc[:, fold.columns != \"Prediction\"]\n",
    "        test_set_y = fold['Prediction']\n",
    "\n",
    "        train_folds = []\n",
    "        for index_2, fold_2 in enumerate(folds):\n",
    "            if index == index_2:\n",
    "                continue\n",
    "            else:\n",
    "                train_folds.append(fold_2)\n",
    "\n",
    "        train_set = pd.concat(train_folds)\n",
    "        # print(train_set.shape)\n",
    "        train_set_x = train_set.loc[:, train_set.columns != \"Prediction\"]\n",
    "        train_set_y = train_set['Prediction']\n",
    "\n",
    "        knn_classifier = KNN(k, \"mode\")\n",
    "        # knn_classifier = KNeighborsClassifier(n_neighbors=k, metric=\"euclidean\", algorithm=\"brute\") #testing with sklearn\n",
    "        knn_classifier.fit(train_set_x, train_set_y)\n",
    "        preds = knn_classifier.predict(test_set_x)\n",
    "\n",
    "        precision, recall, fscore, support = precision_recall_fscore_support(y_true=test_set_y, y_pred=preds, labels=[1])\n",
    "        accuracy = accuracy_score(y_pred=preds, y_true=test_set_y)\n",
    "        accuracies.append(accuracy)\n",
    "\n",
    "    average_accs.append((sum(accuracies)/len(accuracies)))"
   ]
  },
  {
   "cell_type": "code",
   "execution_count": 182,
   "metadata": {},
   "outputs": [
    {
     "data": {
      "text/plain": [
       "Text(0, 0.5, 'Average Fold Accuracy')"
      ]
     },
     "execution_count": 182,
     "metadata": {},
     "output_type": "execute_result"
    },
    {
     "data": {
      "image/png": "[encoded data removed]",
      "text/plain": [
       "<Figure size 640x480 with 1 Axes>"
      ]
     },
     "metadata": {},
     "output_type": "display_data"
    }
   ],
   "source": [
    "plt.plot(k_range, average_accs, marker=\"o\")\n",
    "plt.title(\"kNN 5-fold Cross Validation\")\n",
    "plt.xlabel(\"k\")\n",
    "plt.ylabel(\"Average Fold Accuracy\")"
   ]
  },
  {
   "cell_type": "code",
   "execution_count": 184,
   "metadata": {},
   "outputs": [
    {
     "name": "stdout",
     "output_type": "stream",
     "text": [
      "Test set is set 1. \n",
      " Precision: [0.82608696],\n",
      " Recall: [0.2],\n",
      " Accuracy: 0.76\n",
      "\n",
      "Test set is set 2. \n",
      " Precision: [0.77777778],\n",
      " Recall: [0.15162455],\n",
      " Accuracy: 0.753\n",
      "\n",
      "Test set is set 3. \n",
      " Precision: [0.94736842],\n",
      " Recall: [0.06338028],\n",
      " Accuracy: 0.733\n",
      "\n",
      "Test set is set 4. \n",
      " Precision: [0.57356077],\n",
      " Recall: [0.91496599],\n",
      " Accuracy: 0.775\n",
      "\n",
      "Test set is set 5. \n",
      " Precision: [0.39499305],\n",
      " Recall: [0.92810458],\n",
      " Accuracy: 0.543\n",
      "\n"
     ]
    }
   ],
   "source": [
    "models = []\n",
    "for index, fold in enumerate(folds):\n",
    "    test_set_x = fold.loc[:, fold.columns != \"Prediction\"]\n",
    "    test_set_y = fold['Prediction']\n",
    "\n",
    "    train_folds = []\n",
    "    for index_2, fold_2 in enumerate(folds):\n",
    "        if index == index_2:\n",
    "            continue\n",
    "        else:\n",
    "            train_folds.append(fold_2)\n",
    "\n",
    "    train_set = pd.concat(train_folds)\n",
    "    # print(train_set.shape)\n",
    "    train_set_x = train_set.loc[:, train_set.columns != \"Prediction\"]\n",
    "    train_set_y = train_set['Prediction']\n",
    "\n",
    "    linear_model = LinearModel()\n",
    "    linear_model.fit(train_set_x, train_set_y, epochs=100, alpha=0.005)\n",
    "    preds = linear_model.predict(test_set_x)\n",
    "    precision, recall, fscore, support = precision_recall_fscore_support(y_true=test_set_y, y_pred=preds.round(), labels=[1], zero_division=np.nan)\n",
    "    accuracy = accuracy_score(y_pred=preds.round(), y_true=test_set_y)\n",
    "\n",
    "    print(f'Test set is set {index + 1}. \\n Precision: {precision},\\n Recall: {recall},\\n Accuracy: {accuracy}\\n')"
   ]
  },
  {
   "cell_type": "code",
   "execution_count": 185,
   "metadata": {},
   "outputs": [
    {
     "name": "stdout",
     "output_type": "stream",
     "text": [
      "0.896\n"
     ]
    }
   ],
   "source": [
    "from sklearn.model_selection import train_test_split\n",
    "from sklearn.linear_model import LogisticRegression\n",
    "\n",
    "X_train, X_test, y_train, y_test = train_test_split(email_data.loc[:, email_data.columns != \"Prediction\"], email_data['Prediction'], test_size=0.3, stratify=email_data['Prediction'])\n",
    "knn_classifier = KNN(5, \"average\")\n",
    "knn_classifier.fit(X_train, y_train)\n",
    "knn_preds = knn_classifier.predict(X_test)\n",
    "\n",
    "\n",
    "linear_model = LinearModel()\n",
    "linear_model.fit(X_train, y_train, epochs=1000, alpha=0.0001)\n",
    "linear_preds = linear_model.predict(X_test)\n",
    "print(accuracy_score(y_pred=linear_preds.round(), y_true=y_test))"
   ]
  },
  {
   "cell_type": "code",
   "execution_count": 187,
   "metadata": {},
   "outputs": [
    {
     "data": {
      "text/plain": [
       "Text(0, 0.5, 'TPR')"
      ]
     },
     "execution_count": 187,
     "metadata": {},
     "output_type": "execute_result"
    },
    {
     "data": {
      "image/png": "[encoded data removed]",
      "text/plain": [
       "<Figure size 640x480 with 1 Axes>"
      ]
     },
     "metadata": {},
     "output_type": "display_data"
    }
   ],
   "source": [
    "\n",
    "knn_fpr, knn_tpr, knn_thresholds = roc_curve(y_test, knn_preds, pos_label=1, drop_intermediate=False)\n",
    "lin_fpr, lin_tpr, lin_thresholds = roc_curve(y_test, linear_preds, pos_label=1, drop_intermediate=False)\n",
    "\n",
    "# print(lin_thresholds)\n",
    "plt.plot(knn_fpr, knn_tpr, label=\"Knn\")\n",
    "plt.plot(lin_fpr, lin_tpr, label=\"Linear\")\n",
    "plt.legend(loc = \"lower center\")\n",
    "plt.title(\"Roc curve of knn (k=5) and linear regression\")\n",
    "plt.xlabel(\"FPR\")\n",
    "plt.ylabel(\"TPR\")"
   ]
  }
 ],
 "metadata": {
  "kernelspec": {
   "display_name": "Python 3",
   "language": "python",
   "name": "python3"
  },
  "language_info": {
   "codemirror_mode": {
    "name": "ipython",
    "version": 3
   },
   "file_extension": ".py",
   "mimetype": "text/x-python",
   "name": "python",
   "nbconvert_exporter": "python",
   "pygments_lexer": "ipython3",
   "version": "3.11.5"
  }
 },
 "nbformat": 4,
 "nbformat_minor": 2
}
